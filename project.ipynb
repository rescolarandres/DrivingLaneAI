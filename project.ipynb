{
 "cells": [
  {
   "cell_type": "code",
   "execution_count": 29,
   "metadata": {},
   "outputs": [
    {
     "name": "stdout",
     "output_type": "stream",
     "text": [
      "Requirement already satisfied: stable_baselines3[extra]>=2.0.0a9 in /Users/austinbrees/Documents/MCSBT/Term-3/deep-learning/group-work/mountainCart/.venv/lib/python3.10/site-packages (2.0.0a13)\n",
      "Requirement already satisfied: gymnasium==0.28.1 in /Users/austinbrees/Documents/MCSBT/Term-3/deep-learning/group-work/mountainCart/.venv/lib/python3.10/site-packages (from stable_baselines3[extra]>=2.0.0a9) (0.28.1)\n",
      "Requirement already satisfied: numpy>=1.20 in /Users/austinbrees/Documents/MCSBT/Term-3/deep-learning/group-work/mountainCart/.venv/lib/python3.10/site-packages (from stable_baselines3[extra]>=2.0.0a9) (1.25.0)\n",
      "Requirement already satisfied: torch>=1.11 in /Users/austinbrees/Documents/MCSBT/Term-3/deep-learning/group-work/mountainCart/.venv/lib/python3.10/site-packages (from stable_baselines3[extra]>=2.0.0a9) (2.0.1)\n",
      "Requirement already satisfied: cloudpickle in /Users/austinbrees/Documents/MCSBT/Term-3/deep-learning/group-work/mountainCart/.venv/lib/python3.10/site-packages (from stable_baselines3[extra]>=2.0.0a9) (2.2.1)\n",
      "Requirement already satisfied: pandas in /Users/austinbrees/Documents/MCSBT/Term-3/deep-learning/group-work/mountainCart/.venv/lib/python3.10/site-packages (from stable_baselines3[extra]>=2.0.0a9) (2.0.2)\n",
      "Requirement already satisfied: matplotlib in /Users/austinbrees/Documents/MCSBT/Term-3/deep-learning/group-work/mountainCart/.venv/lib/python3.10/site-packages (from stable_baselines3[extra]>=2.0.0a9) (3.7.1)\n",
      "Requirement already satisfied: opencv-python in /Users/austinbrees/Documents/MCSBT/Term-3/deep-learning/group-work/mountainCart/.venv/lib/python3.10/site-packages (from stable_baselines3[extra]>=2.0.0a9) (4.7.0.72)\n",
      "Requirement already satisfied: tensorboard>=2.9.1 in /Users/austinbrees/Documents/MCSBT/Term-3/deep-learning/group-work/mountainCart/.venv/lib/python3.10/site-packages (from stable_baselines3[extra]>=2.0.0a9) (2.13.0)\n",
      "Requirement already satisfied: psutil in /Users/austinbrees/Documents/MCSBT/Term-3/deep-learning/group-work/mountainCart/.venv/lib/python3.10/site-packages (from stable_baselines3[extra]>=2.0.0a9) (5.9.5)\n",
      "Requirement already satisfied: tqdm in /Users/austinbrees/Documents/MCSBT/Term-3/deep-learning/group-work/mountainCart/.venv/lib/python3.10/site-packages (from stable_baselines3[extra]>=2.0.0a9) (4.65.0)\n",
      "Requirement already satisfied: rich in /Users/austinbrees/Documents/MCSBT/Term-3/deep-learning/group-work/mountainCart/.venv/lib/python3.10/site-packages (from stable_baselines3[extra]>=2.0.0a9) (13.4.2)\n",
      "Requirement already satisfied: shimmy[atari]~=0.2.1 in /Users/austinbrees/Documents/MCSBT/Term-3/deep-learning/group-work/mountainCart/.venv/lib/python3.10/site-packages (from stable_baselines3[extra]>=2.0.0a9) (0.2.1)\n",
      "Requirement already satisfied: pillow in /Users/austinbrees/Documents/MCSBT/Term-3/deep-learning/group-work/mountainCart/.venv/lib/python3.10/site-packages (from stable_baselines3[extra]>=2.0.0a9) (9.5.0)\n",
      "Requirement already satisfied: autorom[accept-rom-license]~=0.6.0 in /Users/austinbrees/Documents/MCSBT/Term-3/deep-learning/group-work/mountainCart/.venv/lib/python3.10/site-packages (from stable_baselines3[extra]>=2.0.0a9) (0.6.1)\n",
      "Requirement already satisfied: pygame in /Users/austinbrees/Documents/MCSBT/Term-3/deep-learning/group-work/mountainCart/.venv/lib/python3.10/site-packages (from stable_baselines3[extra]>=2.0.0a9) (2.4.0)\n",
      "Requirement already satisfied: jax-jumpy>=1.0.0 in /Users/austinbrees/Documents/MCSBT/Term-3/deep-learning/group-work/mountainCart/.venv/lib/python3.10/site-packages (from gymnasium==0.28.1->stable_baselines3[extra]>=2.0.0a9) (1.0.0)\n",
      "Requirement already satisfied: typing-extensions>=4.3.0 in /Users/austinbrees/Documents/MCSBT/Term-3/deep-learning/group-work/mountainCart/.venv/lib/python3.10/site-packages (from gymnasium==0.28.1->stable_baselines3[extra]>=2.0.0a9) (4.6.3)\n",
      "Requirement already satisfied: farama-notifications>=0.0.1 in /Users/austinbrees/Documents/MCSBT/Term-3/deep-learning/group-work/mountainCart/.venv/lib/python3.10/site-packages (from gymnasium==0.28.1->stable_baselines3[extra]>=2.0.0a9) (0.0.4)\n",
      "Requirement already satisfied: click in /Users/austinbrees/Documents/MCSBT/Term-3/deep-learning/group-work/mountainCart/.venv/lib/python3.10/site-packages (from autorom[accept-rom-license]~=0.6.0->stable_baselines3[extra]>=2.0.0a9) (8.1.3)\n",
      "Requirement already satisfied: requests in /Users/austinbrees/Documents/MCSBT/Term-3/deep-learning/group-work/mountainCart/.venv/lib/python3.10/site-packages (from autorom[accept-rom-license]~=0.6.0->stable_baselines3[extra]>=2.0.0a9) (2.31.0)\n",
      "Requirement already satisfied: AutoROM.accept-rom-license in /Users/austinbrees/Documents/MCSBT/Term-3/deep-learning/group-work/mountainCart/.venv/lib/python3.10/site-packages (from autorom[accept-rom-license]~=0.6.0->stable_baselines3[extra]>=2.0.0a9) (0.6.1)\n",
      "Requirement already satisfied: ale-py~=0.8.1 in /Users/austinbrees/Documents/MCSBT/Term-3/deep-learning/group-work/mountainCart/.venv/lib/python3.10/site-packages (from shimmy[atari]~=0.2.1->stable_baselines3[extra]>=2.0.0a9) (0.8.1)\n",
      "Requirement already satisfied: absl-py>=0.4 in /Users/austinbrees/Documents/MCSBT/Term-3/deep-learning/group-work/mountainCart/.venv/lib/python3.10/site-packages (from tensorboard>=2.9.1->stable_baselines3[extra]>=2.0.0a9) (1.4.0)\n",
      "Requirement already satisfied: grpcio>=1.48.2 in /Users/austinbrees/Documents/MCSBT/Term-3/deep-learning/group-work/mountainCart/.venv/lib/python3.10/site-packages (from tensorboard>=2.9.1->stable_baselines3[extra]>=2.0.0a9) (1.54.2)\n",
      "Requirement already satisfied: google-auth<3,>=1.6.3 in /Users/austinbrees/Documents/MCSBT/Term-3/deep-learning/group-work/mountainCart/.venv/lib/python3.10/site-packages (from tensorboard>=2.9.1->stable_baselines3[extra]>=2.0.0a9) (2.20.0)\n",
      "Requirement already satisfied: google-auth-oauthlib<1.1,>=0.5 in /Users/austinbrees/Documents/MCSBT/Term-3/deep-learning/group-work/mountainCart/.venv/lib/python3.10/site-packages (from tensorboard>=2.9.1->stable_baselines3[extra]>=2.0.0a9) (1.0.0)\n",
      "Requirement already satisfied: markdown>=2.6.8 in /Users/austinbrees/Documents/MCSBT/Term-3/deep-learning/group-work/mountainCart/.venv/lib/python3.10/site-packages (from tensorboard>=2.9.1->stable_baselines3[extra]>=2.0.0a9) (3.4.3)\n",
      "Requirement already satisfied: protobuf>=3.19.6 in /Users/austinbrees/Documents/MCSBT/Term-3/deep-learning/group-work/mountainCart/.venv/lib/python3.10/site-packages (from tensorboard>=2.9.1->stable_baselines3[extra]>=2.0.0a9) (4.23.3)\n",
      "Requirement already satisfied: setuptools>=41.0.0 in /Users/austinbrees/Documents/MCSBT/Term-3/deep-learning/group-work/mountainCart/.venv/lib/python3.10/site-packages (from tensorboard>=2.9.1->stable_baselines3[extra]>=2.0.0a9) (67.8.0)\n",
      "Requirement already satisfied: tensorboard-data-server<0.8.0,>=0.7.0 in /Users/austinbrees/Documents/MCSBT/Term-3/deep-learning/group-work/mountainCart/.venv/lib/python3.10/site-packages (from tensorboard>=2.9.1->stable_baselines3[extra]>=2.0.0a9) (0.7.1)\n",
      "Requirement already satisfied: werkzeug>=1.0.1 in /Users/austinbrees/Documents/MCSBT/Term-3/deep-learning/group-work/mountainCart/.venv/lib/python3.10/site-packages (from tensorboard>=2.9.1->stable_baselines3[extra]>=2.0.0a9) (2.3.6)\n",
      "Requirement already satisfied: wheel>=0.26 in /Users/austinbrees/Documents/MCSBT/Term-3/deep-learning/group-work/mountainCart/.venv/lib/python3.10/site-packages (from tensorboard>=2.9.1->stable_baselines3[extra]>=2.0.0a9) (0.40.0)\n",
      "Requirement already satisfied: filelock in /Users/austinbrees/Documents/MCSBT/Term-3/deep-learning/group-work/mountainCart/.venv/lib/python3.10/site-packages (from torch>=1.11->stable_baselines3[extra]>=2.0.0a9) (3.12.2)\n",
      "Requirement already satisfied: sympy in /Users/austinbrees/Documents/MCSBT/Term-3/deep-learning/group-work/mountainCart/.venv/lib/python3.10/site-packages (from torch>=1.11->stable_baselines3[extra]>=2.0.0a9) (1.12)\n",
      "Requirement already satisfied: networkx in /Users/austinbrees/Documents/MCSBT/Term-3/deep-learning/group-work/mountainCart/.venv/lib/python3.10/site-packages (from torch>=1.11->stable_baselines3[extra]>=2.0.0a9) (3.1)\n",
      "Requirement already satisfied: jinja2 in /Users/austinbrees/Documents/MCSBT/Term-3/deep-learning/group-work/mountainCart/.venv/lib/python3.10/site-packages (from torch>=1.11->stable_baselines3[extra]>=2.0.0a9) (3.1.2)\n",
      "Requirement already satisfied: contourpy>=1.0.1 in /Users/austinbrees/Documents/MCSBT/Term-3/deep-learning/group-work/mountainCart/.venv/lib/python3.10/site-packages (from matplotlib->stable_baselines3[extra]>=2.0.0a9) (1.1.0)\n",
      "Requirement already satisfied: cycler>=0.10 in /Users/austinbrees/Documents/MCSBT/Term-3/deep-learning/group-work/mountainCart/.venv/lib/python3.10/site-packages (from matplotlib->stable_baselines3[extra]>=2.0.0a9) (0.11.0)\n",
      "Requirement already satisfied: fonttools>=4.22.0 in /Users/austinbrees/Documents/MCSBT/Term-3/deep-learning/group-work/mountainCart/.venv/lib/python3.10/site-packages (from matplotlib->stable_baselines3[extra]>=2.0.0a9) (4.40.0)\n",
      "Requirement already satisfied: kiwisolver>=1.0.1 in /Users/austinbrees/Documents/MCSBT/Term-3/deep-learning/group-work/mountainCart/.venv/lib/python3.10/site-packages (from matplotlib->stable_baselines3[extra]>=2.0.0a9) (1.4.4)\n",
      "Requirement already satisfied: packaging>=20.0 in /Users/austinbrees/Documents/MCSBT/Term-3/deep-learning/group-work/mountainCart/.venv/lib/python3.10/site-packages (from matplotlib->stable_baselines3[extra]>=2.0.0a9) (23.1)\n",
      "Requirement already satisfied: pyparsing>=2.3.1 in /Users/austinbrees/Documents/MCSBT/Term-3/deep-learning/group-work/mountainCart/.venv/lib/python3.10/site-packages (from matplotlib->stable_baselines3[extra]>=2.0.0a9) (3.1.0)\n",
      "Requirement already satisfied: python-dateutil>=2.7 in /Users/austinbrees/Documents/MCSBT/Term-3/deep-learning/group-work/mountainCart/.venv/lib/python3.10/site-packages (from matplotlib->stable_baselines3[extra]>=2.0.0a9) (2.8.2)\n",
      "Requirement already satisfied: pytz>=2020.1 in /Users/austinbrees/Documents/MCSBT/Term-3/deep-learning/group-work/mountainCart/.venv/lib/python3.10/site-packages (from pandas->stable_baselines3[extra]>=2.0.0a9) (2023.3)\n",
      "Requirement already satisfied: tzdata>=2022.1 in /Users/austinbrees/Documents/MCSBT/Term-3/deep-learning/group-work/mountainCart/.venv/lib/python3.10/site-packages (from pandas->stable_baselines3[extra]>=2.0.0a9) (2023.3)\n",
      "Requirement already satisfied: markdown-it-py>=2.2.0 in /Users/austinbrees/Documents/MCSBT/Term-3/deep-learning/group-work/mountainCart/.venv/lib/python3.10/site-packages (from rich->stable_baselines3[extra]>=2.0.0a9) (3.0.0)\n",
      "Requirement already satisfied: pygments<3.0.0,>=2.13.0 in /Users/austinbrees/Documents/MCSBT/Term-3/deep-learning/group-work/mountainCart/.venv/lib/python3.10/site-packages (from rich->stable_baselines3[extra]>=2.0.0a9) (2.15.1)\n",
      "Requirement already satisfied: importlib-resources in /Users/austinbrees/Documents/MCSBT/Term-3/deep-learning/group-work/mountainCart/.venv/lib/python3.10/site-packages (from ale-py~=0.8.1->shimmy[atari]~=0.2.1->stable_baselines3[extra]>=2.0.0a9) (5.12.0)\n",
      "Requirement already satisfied: cachetools<6.0,>=2.0.0 in /Users/austinbrees/Documents/MCSBT/Term-3/deep-learning/group-work/mountainCart/.venv/lib/python3.10/site-packages (from google-auth<3,>=1.6.3->tensorboard>=2.9.1->stable_baselines3[extra]>=2.0.0a9) (5.3.1)\n",
      "Requirement already satisfied: pyasn1-modules>=0.2.1 in /Users/austinbrees/Documents/MCSBT/Term-3/deep-learning/group-work/mountainCart/.venv/lib/python3.10/site-packages (from google-auth<3,>=1.6.3->tensorboard>=2.9.1->stable_baselines3[extra]>=2.0.0a9) (0.3.0)\n",
      "Requirement already satisfied: rsa<5,>=3.1.4 in /Users/austinbrees/Documents/MCSBT/Term-3/deep-learning/group-work/mountainCart/.venv/lib/python3.10/site-packages (from google-auth<3,>=1.6.3->tensorboard>=2.9.1->stable_baselines3[extra]>=2.0.0a9) (4.9)\n",
      "Requirement already satisfied: six>=1.9.0 in /Users/austinbrees/Documents/MCSBT/Term-3/deep-learning/group-work/mountainCart/.venv/lib/python3.10/site-packages (from google-auth<3,>=1.6.3->tensorboard>=2.9.1->stable_baselines3[extra]>=2.0.0a9) (1.16.0)\n",
      "Requirement already satisfied: urllib3<2.0 in /Users/austinbrees/Documents/MCSBT/Term-3/deep-learning/group-work/mountainCart/.venv/lib/python3.10/site-packages (from google-auth<3,>=1.6.3->tensorboard>=2.9.1->stable_baselines3[extra]>=2.0.0a9) (1.26.16)\n",
      "Requirement already satisfied: requests-oauthlib>=0.7.0 in /Users/austinbrees/Documents/MCSBT/Term-3/deep-learning/group-work/mountainCart/.venv/lib/python3.10/site-packages (from google-auth-oauthlib<1.1,>=0.5->tensorboard>=2.9.1->stable_baselines3[extra]>=2.0.0a9) (1.3.1)\n",
      "Requirement already satisfied: mdurl~=0.1 in /Users/austinbrees/Documents/MCSBT/Term-3/deep-learning/group-work/mountainCart/.venv/lib/python3.10/site-packages (from markdown-it-py>=2.2.0->rich->stable_baselines3[extra]>=2.0.0a9) (0.1.2)\n",
      "Requirement already satisfied: charset-normalizer<4,>=2 in /Users/austinbrees/Documents/MCSBT/Term-3/deep-learning/group-work/mountainCart/.venv/lib/python3.10/site-packages (from requests->autorom[accept-rom-license]~=0.6.0->stable_baselines3[extra]>=2.0.0a9) (3.1.0)\n",
      "Requirement already satisfied: idna<4,>=2.5 in /Users/austinbrees/Documents/MCSBT/Term-3/deep-learning/group-work/mountainCart/.venv/lib/python3.10/site-packages (from requests->autorom[accept-rom-license]~=0.6.0->stable_baselines3[extra]>=2.0.0a9) (3.4)\n",
      "Requirement already satisfied: certifi>=2017.4.17 in /Users/austinbrees/Documents/MCSBT/Term-3/deep-learning/group-work/mountainCart/.venv/lib/python3.10/site-packages (from requests->autorom[accept-rom-license]~=0.6.0->stable_baselines3[extra]>=2.0.0a9) (2023.5.7)\n",
      "Requirement already satisfied: MarkupSafe>=2.1.1 in /Users/austinbrees/Documents/MCSBT/Term-3/deep-learning/group-work/mountainCart/.venv/lib/python3.10/site-packages (from werkzeug>=1.0.1->tensorboard>=2.9.1->stable_baselines3[extra]>=2.0.0a9) (2.1.3)\n",
      "Requirement already satisfied: mpmath>=0.19 in /Users/austinbrees/Documents/MCSBT/Term-3/deep-learning/group-work/mountainCart/.venv/lib/python3.10/site-packages (from sympy->torch>=1.11->stable_baselines3[extra]>=2.0.0a9) (1.3.0)\n",
      "Requirement already satisfied: pyasn1<0.6.0,>=0.4.6 in /Users/austinbrees/Documents/MCSBT/Term-3/deep-learning/group-work/mountainCart/.venv/lib/python3.10/site-packages (from pyasn1-modules>=0.2.1->google-auth<3,>=1.6.3->tensorboard>=2.9.1->stable_baselines3[extra]>=2.0.0a9) (0.5.0)\n",
      "Requirement already satisfied: oauthlib>=3.0.0 in /Users/austinbrees/Documents/MCSBT/Term-3/deep-learning/group-work/mountainCart/.venv/lib/python3.10/site-packages (from requests-oauthlib>=0.7.0->google-auth-oauthlib<1.1,>=0.5->tensorboard>=2.9.1->stable_baselines3[extra]>=2.0.0a9) (3.2.2)\n",
      "Requirement already satisfied: gym in /Users/austinbrees/Documents/MCSBT/Term-3/deep-learning/group-work/mountainCart/.venv/lib/python3.10/site-packages (0.26.2)\n",
      "Requirement already satisfied: numpy>=1.18.0 in /Users/austinbrees/Documents/MCSBT/Term-3/deep-learning/group-work/mountainCart/.venv/lib/python3.10/site-packages (from gym) (1.25.0)\n",
      "Requirement already satisfied: cloudpickle>=1.2.0 in /Users/austinbrees/Documents/MCSBT/Term-3/deep-learning/group-work/mountainCart/.venv/lib/python3.10/site-packages (from gym) (2.2.1)\n",
      "Requirement already satisfied: gym-notices>=0.0.4 in /Users/austinbrees/Documents/MCSBT/Term-3/deep-learning/group-work/mountainCart/.venv/lib/python3.10/site-packages (from gym) (0.0.8)\n"
     ]
    }
   ],
   "source": [
    "!pip install \"stable_baselines3[extra]>=2.0.0a9\"\n",
    "!pip install gym"
   ]
  },
  {
   "cell_type": "code",
   "execution_count": 30,
   "metadata": {},
   "outputs": [],
   "source": [
    "\n",
    "import gym\n",
    "from stable_baselines3 import PPO\n",
    "from stable_baselines3.ppo import MlpPolicy\n",
    "from stable_baselines3.common.env_util import make_vec_env\n",
    "import os\n",
    "import time\n"
   ]
  },
  {
   "cell_type": "code",
   "execution_count": 31,
   "metadata": {},
   "outputs": [],
   "source": [
    "# Saving logs to visulise in Tensorboard, saving models\n",
    "models_dir = f\"models/Mountain-{time.time()}\"\n",
    "logdir = f\"logs/Mountain-{time.time()}\"\n",
    "if not os.path.exists(models_dir):\n",
    "    os.makedirs(models_dir)\n",
    "if not os.path.exists(logdir):\n",
    "    os.makedirs(logdir)"
   ]
  },
  {
   "cell_type": "code",
   "execution_count": 32,
   "metadata": {},
   "outputs": [],
   "source": [
    "# Parallel environments\n",
    "env = make_vec_env(\"MountainCarContinuous-v0\", n_envs=1)"
   ]
  },
  {
   "cell_type": "code",
   "execution_count": 65,
   "metadata": {},
   "outputs": [
    {
     "name": "stdout",
     "output_type": "stream",
     "text": [
      "Using cpu device\n"
     ]
    }
   ],
   "source": [
    "# The learning agent and hyperparameters\n",
    "model = PPO(\n",
    "    policy=MlpPolicy,\n",
    "    env=env,\n",
    "    seed=0,\n",
    "    batch_size=256,\n",
    "    ent_coef=0.1, # Increase to encourage more exploration\n",
    "    learning_rate=0.0003, # Increased learning rate\n",
    "    n_epochs=10,\n",
    "    n_steps=2048, # Increased number of steps per batch\n",
    "    gae_lambda=0.95, # Adjusted lambda\n",
    "    gamma=0.99, # Adjusted gamma\n",
    "    clip_range=0.2, # Keep the same clip range\n",
    "    max_grad_norm=0.5, # Decreased max grad norm\n",
    "    vf_coef=0.5, # Increased value function coefficient\n",
    "    use_sde=True,\n",
    "    policy_kwargs=dict(net_arch=[64, 64], log_std_init=-0.5, ortho_init=False), # Adjusted network architecture and initial log std\n",
    "    verbose=1,\n",
    "    tensorboard_log=logdir,\n",
    ")"
   ]
  },
  {
   "cell_type": "code",
   "execution_count": null,
   "metadata": {},
   "outputs": [],
   "source": [
    "#Training and saving models along the way\n",
    "TIMESTEPS = 20000\n",
    "for i in range(10): \n",
    "    model.learn(total_timesteps=TIMESTEPS,reset_num_timesteps=False, tb_log_name=\"PPO\")\n",
    "    model.save(f\"{models_dir}/{TIMESTEPS*i}\")"
   ]
  },
  {
   "cell_type": "code",
   "execution_count": 74,
   "metadata": {},
   "outputs": [
    {
     "data": {
      "image/png": "[encoded data removed]",
      "text/plain": [
       "<Figure size 640x480 with 1 Axes>"
      ]
     },
     "metadata": {},
     "output_type": "display_data"
    }
   ],
   "source": [
    "from IPython import display\n",
    "import matplotlib\n",
    "import matplotlib.pyplot as plt\n",
    "\n",
    "# Check model performance\n",
    "# load the best model you observed from tensorboard - the one reach the goal/ obtaining highest return\n",
    "models_dir = \"models/Mountain-1687190772.726302\"\n",
    "model_path = f\"{models_dir}/140000\"\n",
    "best_model = PPO.load(model_path, env=env)\n",
    "obs = env.reset()\n",
    "\n",
    "# Start the rendering process\n",
    "img = plt.imshow(env.render(mode='rgb_array'))\n",
    "\n",
    "# For each step, update the display\n",
    "while True:\n",
    "    action, _states = best_model.predict(obs)\n",
    "    obs, rewards, dones, info = env.step(action)\n",
    "    img.set_data(env.render(mode='rgb_array')) \n",
    "    display.display(plt.gcf())\n",
    "    display.clear_output(wait=True)\n",
    "    if dones:\n",
    "        break\n",
    "\n"
   ]
  }
 ],
 "metadata": {
  "kernelspec": {
   "display_name": ".venv",
   "language": "python",
   "name": "python3"
  },
  "language_info": {
   "codemirror_mode": {
    "name": "ipython",
    "version": 3
   },
   "file_extension": ".py",
   "mimetype": "text/x-python",
   "name": "python",
   "nbconvert_exporter": "python",
   "pygments_lexer": "ipython3",
   "version": "3.10.8"
  },
  "orig_nbformat": 4
 },
 "nbformat": 4,
 "nbformat_minor": 2
}
